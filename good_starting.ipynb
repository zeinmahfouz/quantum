{
  "nbformat": 4,
  "nbformat_minor": 0,
  "metadata": {
    "colab": {
      "provenance": [],
      "toc_visible": true,
      "authorship_tag": "ABX9TyPFJXqV9nG+8Fc5aHUxGdck",
      "include_colab_link": true
    },
    "kernelspec": {
      "name": "python3",
      "display_name": "Python 3"
    },
    "language_info": {
      "name": "python"
    }
  },
  "cells": [
    {
      "cell_type": "markdown",
      "metadata": {
        "id": "view-in-github",
        "colab_type": "text"
      },
      "source": [
        "<a href=\"https://colab.research.google.com/github/zeinmahfouz/quantum/blob/main/good_starting.ipynb\" target=\"_parent\"><img src=\"https://colab.research.google.com/assets/colab-badge.svg\" alt=\"Open In Colab\"/></a>"
      ]
    },
    {
      "cell_type": "code",
      "execution_count": null,
      "metadata": {
        "colab": {
          "base_uri": "https://localhost:8080/"
        },
        "id": "Jb-SMk8o_ksw",
        "outputId": "de99ca95-caae-4d06-fa88-3657fb4b8e2d"
      },
      "outputs": [
        {
          "output_type": "stream",
          "name": "stdout",
          "text": [
            "Accuracy: 1.0\n",
            "True Positives: 8\n",
            "True Negatives: 357\n",
            "False Positives: 0\n",
            "False Negatives: 0\n",
            "Mean Absolute Error: 40.46245372045473\n",
            "Mean Squared Error: 2011.279397135402\n"
          ]
        }
      ],
      "source": [
        "import numpy as np\n",
        "\n",
        "# Generate synthetic data for demonstration\n",
        "# Suppose we have historical water level data for previous years\n",
        "# For simplicity, we'll generate random data here\n",
        "np.random.seed(0)\n",
        "num_days = 365\n",
        "water_levels = np.random.normal(loc=50, scale=20, size=num_days)  # Random water levels\n",
        "threshold = 90  # Threshold for flood prediction\n",
        "\n",
        "# Function to predict floods based on water levels\n",
        "def predict_floods(water_levels, threshold):\n",
        "    # Predict floods based on water levels\n",
        "    predictions = (water_levels > threshold).astype(int)\n",
        "    return predictions\n",
        "\n",
        "# Predict floods for each day\n",
        "flood_predictions = predict_floods(water_levels, threshold)\n",
        "\n",
        "# Evaluate predictions\n",
        "true_positives = np.sum((flood_predictions == 1) & (water_levels > threshold))\n",
        "true_negatives = np.sum((flood_predictions == 0) & (water_levels <= threshold))\n",
        "false_positives = np.sum((flood_predictions == 1) & (water_levels <= threshold))\n",
        "false_negatives = np.sum((flood_predictions == 0) & (water_levels > threshold))\n",
        "\n",
        "# Calculate accuracy\n",
        "accuracy = (true_positives + true_negatives) / len(water_levels)\n",
        "\n",
        "# Calculate mean absolute error\n",
        "mean_absolute_error = np.mean(np.abs(water_levels - threshold))\n",
        "\n",
        "# Calculate mean squared error\n",
        "mean_squared_error = np.mean((water_levels - threshold)**2)\n",
        "\n",
        "# Print evaluation metrics\n",
        "print(\"Accuracy:\", accuracy)\n",
        "print(\"True Positives:\", true_positives)\n",
        "print(\"True Negatives:\", true_negatives)\n",
        "print(\"False Positives:\", false_positives)\n",
        "print(\"False Negatives:\", false_negatives)\n",
        "print(\"Mean Absolute Error:\", mean_absolute_error)\n",
        "print(\"Mean Squared Error:\", mean_squared_error)\n"
      ]
    },
    {
      "cell_type": "code",
      "source": [
        "import numpy as np\n",
        "import cirq\n",
        "\n",
        "# Generate synthetic data for demonstration\n",
        "np.random.seed(0)\n",
        "num_days = 365\n",
        "water_levels = np.random.normal(loc=50, scale=20, size=num_days)  # Random water levels\n",
        "threshold = 90  # Threshold for flood prediction\n",
        "\n",
        "# Create a quantum circuit to simulate flood prediction\n",
        "qubits = cirq.LineQubit.range(num_days)\n",
        "circuit = cirq.Circuit()\n",
        "\n",
        "# Apply X gate (equivalent to classical NOT gate) to qubits with water levels above threshold\n",
        "for i, water_level in enumerate(water_levels):\n",
        "    if water_level > threshold:\n",
        "        circuit.append(cirq.X(qubits[i]))\n",
        "\n",
        "# Measure qubits to determine flood predictions\n",
        "circuit.append(cirq.measure(*qubits, key='result'))\n",
        "\n",
        "# Simulate the circuit\n",
        "simulator = cirq.Simulator()\n",
        "result = simulator.run(circuit)\n",
        "\n",
        "# Extract flood predictions from measurement results\n",
        "# Extract flood predictions from measurement results\n",
        "flood_predictions = result.measurements['result'][0]\n",
        "\n",
        "# Evaluate predictions\n",
        "true_positives = np.sum((flood_predictions == 1) & (water_levels > threshold))\n",
        "true_negatives = np.sum((flood_predictions == 0) & (water_levels <= threshold))\n",
        "false_positives = np.sum((flood_predictions == 1) & (water_levels <= threshold))\n",
        "false_negatives = np.sum((flood_predictions == 0) & (water_levels > threshold))\n",
        "\n",
        "# Calculate accuracy\n",
        "accuracy = (true_positives + true_negatives) / len(water_levels)\n",
        "\n",
        "# Calculate mean absolute error\n",
        "mean_absolute_error = np.mean(np.abs(water_levels - threshold))\n",
        "\n",
        "# Calculate mean squared error\n",
        "mean_squared_error = np.mean((water_levels - threshold)**2)\n",
        "\n",
        "# Print evaluation metrics\n",
        "print(\"Accuracy:\", accuracy)\n",
        "print(\"True Positives:\", true_positives)\n",
        "print(\"True Negatives:\", true_negatives)\n",
        "print(\"False Positives:\", false_positives)\n",
        "print(\"False Negatives:\", false_negatives)\n",
        "print(\"Mean Absolute Error:\", mean_absolute_error)\n",
        "print(\"Mean Squared Error:\", mean_squared_error)\n",
        "print(result.measurements['result'])\n",
        "print(\"Flood Predictions:\", flood_predictions)\n",
        "\n",
        "\n"
      ],
      "metadata": {
        "colab": {
          "base_uri": "https://localhost:8080/"
        },
        "id": "KAscmX28_-tC",
        "outputId": "e7e93f60-7948-49b4-bebe-acbc9d968a7b"
      },
      "execution_count": null,
      "outputs": [
        {
          "output_type": "stream",
          "name": "stdout",
          "text": [
            "Accuracy: 1.0\n",
            "True Positives: 8\n",
            "True Negatives: 357\n",
            "False Positives: 0\n",
            "False Negatives: 0\n",
            "Mean Absolute Error: 40.46245372045473\n",
            "Mean Squared Error: 2011.279397135402\n",
            "[[0 0 0 1 0 0 0 0 0 0 0 0 0 0 0 0 0 0 0 0 0 0 0 0 1 0 0 0 0 0 0 0 0 0 0 0\n",
            "  0 0 0 0 0 0 0 0 0 0 0 0 0 0 0 0 0 0 0 0 0 0 0 0 0 0 0 0 0 0 0 0 0 0 0 0\n",
            "  0 0 0 0 0 0 0 0 0 0 0 0 0 0 0 0 0 0 0 0 0 0 0 0 0 0 0 0 0 0 0 0 0 0 0 0\n",
            "  0 0 0 0 0 0 0 0 0 0 0 0 0 0 0 0 0 0 0 0 0 0 0 0 0 0 0 0 0 0 0 0 0 0 0 0\n",
            "  1 0 0 0 0 0 0 0 0 0 0 0 0 0 0 0 0 0 0 0 0 0 0 0 0 0 0 0 0 0 0 0 0 0 0 0\n",
            "  0 0 0 0 0 0 0 0 0 0 0 0 0 0 0 0 0 0 1 0 0 0 0 0 0 0 0 0 0 0 0 0 0 0 0 0\n",
            "  0 0 1 0 0 0 0 0 0 0 0 0 0 0 0 0 0 0 0 0 0 0 0 0 0 0 0 0 0 0 0 0 0 0 0 0\n",
            "  0 0 0 0 0 0 0 0 0 0 0 0 0 0 0 0 0 0 0 0 0 0 0 0 0 0 0 1 0 0 0 0 0 0 0 0\n",
            "  0 0 0 0 1 0 0 0 0 0 0 0 0 0 0 0 0 0 0 0 0 0 0 0 0 0 0 0 0 0 0 0 0 0 0 0\n",
            "  0 0 0 1 0 0 0 0 0 0 0 0 0 0 0 0 0 0 0 0 0 0 0 0 0 0 0 0 0 0 0 0 0 0 0 0\n",
            "  0 0 0 0 0]]\n",
            "Flood Predictions: [0 0 0 1 0 0 0 0 0 0 0 0 0 0 0 0 0 0 0 0 0 0 0 0 1 0 0 0 0 0 0 0 0 0 0 0 0\n",
            " 0 0 0 0 0 0 0 0 0 0 0 0 0 0 0 0 0 0 0 0 0 0 0 0 0 0 0 0 0 0 0 0 0 0 0 0 0\n",
            " 0 0 0 0 0 0 0 0 0 0 0 0 0 0 0 0 0 0 0 0 0 0 0 0 0 0 0 0 0 0 0 0 0 0 0 0 0\n",
            " 0 0 0 0 0 0 0 0 0 0 0 0 0 0 0 0 0 0 0 0 0 0 0 0 0 0 0 0 0 0 0 0 0 1 0 0 0\n",
            " 0 0 0 0 0 0 0 0 0 0 0 0 0 0 0 0 0 0 0 0 0 0 0 0 0 0 0 0 0 0 0 0 0 0 0 0 0\n",
            " 0 0 0 0 0 0 0 0 0 0 0 0 0 1 0 0 0 0 0 0 0 0 0 0 0 0 0 0 0 0 0 0 0 1 0 0 0\n",
            " 0 0 0 0 0 0 0 0 0 0 0 0 0 0 0 0 0 0 0 0 0 0 0 0 0 0 0 0 0 0 0 0 0 0 0 0 0\n",
            " 0 0 0 0 0 0 0 0 0 0 0 0 0 0 0 0 0 0 0 0 1 0 0 0 0 0 0 0 0 0 0 0 0 1 0 0 0\n",
            " 0 0 0 0 0 0 0 0 0 0 0 0 0 0 0 0 0 0 0 0 0 0 0 0 0 0 0 0 0 0 0 1 0 0 0 0 0\n",
            " 0 0 0 0 0 0 0 0 0 0 0 0 0 0 0 0 0 0 0 0 0 0 0 0 0 0 0 0 0 0 0 0]\n"
          ]
        }
      ]
    },
    {
      "cell_type": "markdown",
      "source": [],
      "metadata": {
        "id": "_dZ0Fh0gABm9"
      }
    },
    {
      "cell_type": "code",
      "source": [
        "import numpy as np\n",
        "import cirq\n",
        "\n",
        "# Example water level data\n",
        "water_levels = np.array([45, 55, 60, 70])  # Example water levels (in some arbitrary unit)\n",
        "\n",
        "# Normalize the data (if needed)\n",
        "normalized_levels = (water_levels - min(water_levels)) / (max(water_levels) - min(water_levels))\n",
        "\n",
        "# Convert normalized levels to integers for binary encoding\n",
        "int_levels = (normalized_levels * 255).astype(int)  # Scaling to 8-bit representation (0-255)\n",
        "\n",
        "# Binary encoding of water levels\n",
        "binary_levels = [[int(bit) for bit in format(level, '08b')] for level in int_levels]\n",
        "\n",
        "# Create a quantum circuit\n",
        "num_qubits = len(binary_levels[0])  # Number of qubits required for encoding\n",
        "qubits = cirq.LineQubit.range(num_qubits)\n",
        "circuit = cirq.Circuit()\n",
        "\n",
        "# Encode water level data into qubits using basis encoding\n",
        "for i, level_bits in enumerate(binary_levels):\n",
        "    for j, bit in enumerate(level_bits):\n",
        "        if bit == 1:\n",
        "            circuit.append(cirq.X(qubits[j]))\n",
        "\n",
        "# Apply flood prediction logic (for demonstration)\n",
        "# For example, flipping the last qubit if the water level exceeds a certain threshold\n",
        "threshold = 0.5  # Example threshold\n",
        "if normalized_levels[-1] > threshold:\n",
        "    circuit.append(cirq.X(qubits[-1]))  # Apply NOT gate (equivalent to classical NOT) to flip the qubit state\n",
        "\n",
        "# Measure qubits to determine flood predictions\n",
        "circuit.append(cirq.measure(*qubits, key='result'))\n",
        "\n",
        "# Simulate the circuit\n",
        "simulator = cirq.Simulator()\n",
        "result = simulator.run(circuit)\n",
        "\n",
        "# Extract flood predictions from measurement results\n",
        "flood_predictions = [result.measurements['result'][0][i] for i in range(len(water_levels))]\n",
        "\n",
        "print(\"Water Levels (Normalized):\", normalized_levels)\n",
        "print(\"Binary Encoded Water Levels:\", binary_levels)\n",
        "print(\"Flood Predictions:\", flood_predictions)\n"
      ],
      "metadata": {
        "colab": {
          "base_uri": "https://localhost:8080/"
        },
        "id": "K_WTXLrVDZnO",
        "outputId": "31764ff2-6f43-4890-e3be-7885aec97db9"
      },
      "execution_count": null,
      "outputs": [
        {
          "output_type": "stream",
          "name": "stdout",
          "text": [
            "Water Levels (Normalized): [0.  0.4 0.6 1. ]\n",
            "Binary Encoded Water Levels: [[0, 0, 0, 0, 0, 0, 0, 0], [0, 1, 1, 0, 0, 1, 1, 0], [1, 0, 0, 1, 1, 0, 0, 1], [1, 1, 1, 1, 1, 1, 1, 1]]\n",
            "Flood Predictions: [0, 0, 0, 0]\n"
          ]
        }
      ]
    },
    {
      "cell_type": "markdown",
      "source": [
        "# New Section"
      ],
      "metadata": {
        "id": "TLjhQOGPEdLd"
      }
    },
    {
      "cell_type": "code",
      "source": [
        "import numpy as np\n",
        "import cirq\n",
        "from sklearn.linear_model import LogisticRegression\n",
        "from sklearn.metrics import accuracy_score, confusion_matrix\n",
        "\n",
        "# Generate synthetic data for demonstration (replace with actual data)\n",
        "np.random.seed(0)\n",
        "num_days = 365\n",
        "water_levels = np.random.normal(loc=50, scale=20, size=num_days)  # Random water levels\n",
        "threshold = 90  # Threshold for flood prediction\n",
        "\n",
        "# Normalize the data\n",
        "normalized_levels = (water_levels - min(water_levels)) / (max(water_levels) - min(water_levels))\n",
        "\n",
        "# Convert to binary encoding\n",
        "binary_levels = [[int(bit) for bit in format(int(level * 255), '08b')] for level in normalized_levels]\n",
        "\n",
        "# Create a quantum circuit to encode data\n",
        "num_qubits = len(binary_levels[0])\n",
        "qubits = cirq.LineQubit.range(num_qubits)\n",
        "circuit = cirq.Circuit()\n",
        "\n",
        "# Encode data into quantum states\n",
        "for i, level_bits in enumerate(binary_levels):\n",
        "    for j, bit in enumerate(level_bits):\n",
        "        if bit == 1:\n",
        "            circuit.append(cirq.X(qubits[j]))\n",
        "\n",
        "# Run simulation to extract encoded features\n",
        "simulator = cirq.Simulator()\n",
        "X_train = np.array([simulator.simulate(circuit).final_state_vector.real for _ in range(num_days)])\n",
        "\n",
        "# Use encoded features to train a classical machine learning model\n",
        "y_train = np.array([1 if level > threshold else 0 for level in water_levels])\n",
        "\n",
        "model = LogisticRegression()\n",
        "model.fit(X_train, y_train)\n",
        "\n",
        "# Predict flood events for each day of 2023\n",
        "predicted_labels = []\n",
        "for _ in range(num_days):\n",
        "    predicted_labels.append(model.predict([simulator.simulate(circuit).final_state_vector.real]))\n",
        "\n",
        "# Evaluate predictions\n",
        "accuracy = accuracy_score(y_train, predicted_labels)\n",
        "conf_matrix = confusion_matrix(y_train, predicted_labels)\n",
        "\n",
        "print(\"Accuracy:\", accuracy)\n",
        "print(\"Confusion Matrix:\")\n",
        "print(conf_matrix)\n"
      ],
      "metadata": {
        "colab": {
          "base_uri": "https://localhost:8080/"
        },
        "id": "pEgqZ0ZUFvag",
        "outputId": "ef559d10-a883-42a8-97ca-7b337bdc5f19"
      },
      "execution_count": null,
      "outputs": [
        {
          "output_type": "stream",
          "name": "stdout",
          "text": [
            "Accuracy: 0.9780821917808219\n",
            "Confusion Matrix:\n",
            "[[357   0]\n",
            " [  8   0]]\n"
          ]
        }
      ]
    }
  ]
}